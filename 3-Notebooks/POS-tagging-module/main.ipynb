{
 "cells": [
  {
   "cell_type": "code",
   "execution_count": 2,
   "id": "a045399a-4d52-4661-b041-cd97bd35a290",
   "metadata": {},
   "outputs": [],
   "source": [
    "import nltk\n",
    "import re\n",
    "import string\n",
    "from nltk.tokenize import word_tokenize\n",
    "import os\n",
    "import xml.etree.ElementTree as etree\n",
    "import pandas as pd\n"
   ]
  },
  {
   "cell_type": "code",
   "execution_count": 4,
   "id": "3e920268-b8e5-4532-be2a-eb3861d695e6",
   "metadata": {},
   "outputs": [],
   "source": [
    "# import modules\n",
    "# from Modules import POS_tag_From_Database   \n",
    "\n",
    "\n",
    "\n",
    "def POS_tag_From_Database(token):\n",
    "    ''' POS_tag_From_Database take single parameter which is token in pashto\n",
    "    and return the respective part of speech tag from the database\n",
    "    if len(words)==len(adjective) is not equal will return None\n",
    "    return None if word not present in database\n",
    "    '''\n",
    "    \n",
    "    file_path = \"Datasets/Pastho-dictionary(pos).xlsx\"\n",
    "    dictt = pd.read_excel(file_path)\n",
    "\n",
    "    words = list(dictt.token)\n",
    "    adjective = dictt.Adjective\n",
    "\n",
    "    if len(words)==len(adjective):\n",
    "        pos_dictionary = {}\n",
    "        for index in range(len(words)):\n",
    "            pos_dictionary[words[index]] = adjective[index].strip()\n",
    "    else:\n",
    "        print(\"words and respective tag not equal in database path :{}\".format(file_path))\n",
    "        return None\n",
    "\n",
    "    if token in pos_dictionary:\n",
    "        return (token , pos_dictionary[token])\n",
    "    else:\n",
    "        ## apply some rules on those words whose are present in the database\n",
    "        pass\n",
    "    \n",
    "    \n",
    "    \n",
    "if __name__ == '__main__':\n",
    "    pass\n",
    "    "
   ]
  },
  {
   "cell_type": "code",
   "execution_count": 5,
   "id": "35807e0e-7c1a-454f-a1d9-532ca679055d",
   "metadata": {},
   "outputs": [
    {
     "name": "stdout",
     "output_type": "stream",
     "text": [
      "Sentance :  عقل ګودرغاړهاولاړشو غاړه  افلاكو علم انشاء علم\n",
      "Tokens :  ['عقل', 'ګودرغاړهاولاړشو', 'غاړه', 'افلاكو', 'علم', 'انشاء', 'علم']\n",
      "('عقل', 'Noun')\n",
      "None\n",
      "None\n",
      "None\n",
      "('علم', 'Abbreviation')\n",
      "None\n",
      "('علم', 'Abbreviation')\n"
     ]
    }
   ],
   "source": [
    "sen = open('Datasets/ao-kana.txt',encoding=\"utf8\").read()\n",
    "\n",
    "print(\"Sentance : \",sen)\n",
    "\n",
    "tokens = word_tokenize(sen)\n",
    "print(\"Tokens : \",tokens)\n",
    "\n",
    "\n",
    "for token in tokens:\n",
    "    print(POS_tag_From_Database(token))\n",
    "    "
   ]
  },
  {
   "cell_type": "code",
   "execution_count": 6,
   "id": "285c77b7-bd3a-40d1-9603-b19bd330b122",
   "metadata": {},
   "outputs": [
    {
     "name": "stdout",
     "output_type": "stream",
     "text": [
      "update_database_with_new_words : Called\n",
      "هلک already in the database\n",
      "هلکان already in the database\n",
      "زه already in the database\n",
      "زما already in the database\n",
      "هر already in the database\n",
      "ځان already in the database\n"
     ]
    },
    {
     "data": {
      "text/plain": [
       "<bound method NDFrame.tail of           token     Adjective\n",
       "0           ابا  \\t\\t\\tNoun  \n",
       "1       ابابيله  \\t\\t\\tNoun  \n",
       "2      اباتوالی  \\t\\t\\tNoun  \n",
       "3        اباتوب  \\t\\t\\tNoun  \n",
       "4        اباتول  \\t\\t\\tVerb  \n",
       "...         ...           ...\n",
       "18247     واورئ        Verb  \n",
       "18248      یوبل            PR\n",
       "18249   خپل ځان            PN\n",
       "18250     کم یو            PL\n",
       "18251      هریو            PB\n",
       "\n",
       "[18252 rows x 2 columns]>"
      ]
     },
     "execution_count": 6,
     "metadata": {},
     "output_type": "execute_result"
    }
   ],
   "source": [
    "import importlib\n",
    "from Modules import update_database_with_new_words\n",
    "\n",
    "updated_words=[(\"هلک\",\"NICD\"),(\"هلکان\",\"N2CD\"),(\"زه\",\"PP\"),\n",
    "       (\"زما\",\"PS\"),\n",
    "        (\"هر\",\"PI\"),\n",
    "        (\"ځان\",\"PX\"),\n",
    "        (\"یوبل\",\"PR\"),\n",
    "        (\"خپل ځان\",\"PN\"),\n",
    "        (\"کم یو\",\"PL\"),\n",
    "        (\"هریو\" , \"PB\")]\n",
    "update_database_with_new_words(updated_words)"
   ]
  },
  {
   "cell_type": "code",
   "execution_count": 7,
   "id": "f83d0ff2-9484-478f-b0bf-7deed026ff3b",
   "metadata": {},
   "outputs": [
    {
     "data": {
      "text/html": [
       "<div>\n",
       "<style scoped>\n",
       "    .dataframe tbody tr th:only-of-type {\n",
       "        vertical-align: middle;\n",
       "    }\n",
       "\n",
       "    .dataframe tbody tr th {\n",
       "        vertical-align: top;\n",
       "    }\n",
       "\n",
       "    .dataframe thead th {\n",
       "        text-align: right;\n",
       "    }\n",
       "</style>\n",
       "<table border=\"1\" class=\"dataframe\">\n",
       "  <thead>\n",
       "    <tr style=\"text-align: right;\">\n",
       "      <th></th>\n",
       "      <th>col1</th>\n",
       "      <th>col2</th>\n",
       "    </tr>\n",
       "  </thead>\n",
       "  <tbody>\n",
       "    <tr>\n",
       "      <th>0</th>\n",
       "      <td>1</td>\n",
       "      <td>3</td>\n",
       "    </tr>\n",
       "    <tr>\n",
       "      <th>1</th>\n",
       "      <td>2</td>\n",
       "      <td>4</td>\n",
       "    </tr>\n",
       "  </tbody>\n",
       "</table>\n",
       "</div>"
      ],
      "text/plain": [
       "   col1  col2\n",
       "0     1     3\n",
       "1     2     4"
      ]
     },
     "execution_count": 7,
     "metadata": {},
     "output_type": "execute_result"
    }
   ],
   "source": [
    "d = {'col1': [1, 2], 'col2': [3, 4]}\n",
    "df = pd.DataFrame(data=d)\n",
    "df\n"
   ]
  },
  {
   "cell_type": "code",
   "execution_count": 14,
   "id": "e6e7fdc8-bdf6-4540-a461-eec4b15e6fbb",
   "metadata": {},
   "outputs": [],
   "source": [
    "dictt = df.to_dict(orient='list')\n",
    "\n",
    "dictt['col1'].append(3)\n",
    "dictt['col2'].append(\"None\")\n",
    "\n",
    "df = pd.DataFrame(data=dictt)"
   ]
  },
  {
   "cell_type": "code",
   "execution_count": 16,
   "id": "813b1481-8dae-41c0-aaf0-007279e6dd1f",
   "metadata": {},
   "outputs": [
    {
     "data": {
      "text/html": [
       "<div>\n",
       "<style scoped>\n",
       "    .dataframe tbody tr th:only-of-type {\n",
       "        vertical-align: middle;\n",
       "    }\n",
       "\n",
       "    .dataframe tbody tr th {\n",
       "        vertical-align: top;\n",
       "    }\n",
       "\n",
       "    .dataframe thead th {\n",
       "        text-align: right;\n",
       "    }\n",
       "</style>\n",
       "<table border=\"1\" class=\"dataframe\">\n",
       "  <thead>\n",
       "    <tr style=\"text-align: right;\">\n",
       "      <th></th>\n",
       "      <th>col1</th>\n",
       "      <th>col2</th>\n",
       "    </tr>\n",
       "  </thead>\n",
       "  <tbody>\n",
       "    <tr>\n",
       "      <th>0</th>\n",
       "      <td>1</td>\n",
       "      <td>3</td>\n",
       "    </tr>\n",
       "    <tr>\n",
       "      <th>1</th>\n",
       "      <td>2</td>\n",
       "      <td>4</td>\n",
       "    </tr>\n",
       "    <tr>\n",
       "      <th>2</th>\n",
       "      <td>3</td>\n",
       "      <td>None</td>\n",
       "    </tr>\n",
       "  </tbody>\n",
       "</table>\n",
       "</div>"
      ],
      "text/plain": [
       "   col1  col2\n",
       "0     1     3\n",
       "1     2     4\n",
       "2     3  None"
      ]
     },
     "execution_count": 16,
     "metadata": {},
     "output_type": "execute_result"
    }
   ],
   "source": [
    "df"
   ]
  },
  {
   "cell_type": "code",
   "execution_count": 27,
   "id": "16148e84-3f69-4f1f-b9ed-f7fe68f5bf36",
   "metadata": {},
   "outputs": [
    {
     "name": "stdout",
     "output_type": "stream",
     "text": [
      "Requirement already satisfied: openpyxl in /home/iffishells/anaconda3/lib/python3.8/site-packages (3.0.7)\n",
      "Requirement already satisfied: et-xmlfile in /home/iffishells/anaconda3/lib/python3.8/site-packages (from openpyxl) (1.1.0)\n"
     ]
    }
   ],
   "source": []
  },
  {
   "cell_type": "code",
   "execution_count": null,
   "id": "2f3bf315-9c8b-40ed-adc8-b5e306bc2cd4",
   "metadata": {},
   "outputs": [],
   "source": []
  }
 ],
 "metadata": {
  "kernelspec": {
   "display_name": "Python 3 (ipykernel)",
   "language": "python",
   "name": "python3"
  },
  "language_info": {
   "codemirror_mode": {
    "name": "ipython",
    "version": 3
   },
   "file_extension": ".py",
   "mimetype": "text/x-python",
   "name": "python",
   "nbconvert_exporter": "python",
   "pygments_lexer": "ipython3",
   "version": "3.8.12"
  }
 },
 "nbformat": 4,
 "nbformat_minor": 5
}
