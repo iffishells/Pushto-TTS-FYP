{
 "cells": [
  {
   "cell_type": "code",
   "execution_count": 8,
   "id": "a045399a-4d52-4661-b041-cd97bd35a290",
   "metadata": {},
   "outputs": [],
   "source": [
    "import nltk\n",
    "import re\n",
    "import string\n",
    "from nltk.tokenize import word_tokenize\n",
    "import os\n",
    "import xml.etree.ElementTree as etree\n",
    "import pandas as pd\n"
   ]
  },
  {
   "cell_type": "code",
   "execution_count": 27,
   "id": "3e920268-b8e5-4532-be2a-eb3861d695e6",
   "metadata": {},
   "outputs": [],
   "source": [
    "# import modules\n",
    "# from Modules import POS_tag_From_Database   \n",
    "\n",
    "\n",
    "\n",
    "def POS_tag_From_Database(token):\n",
    "    ''' POS_tag_From_Database take single parameter which is token in pashto\n",
    "    and return the respective part of speech tag from the database\n",
    "    if len(words)==len(adjective) is not equal will return None\n",
    "    return None if word not present in database\n",
    "    '''\n",
    "    \n",
    "    file_path = \"Datasets/Pastho-dictionary(pos).xlsx\"\n",
    "    dictt = pd.read_excel(file_path)\n",
    "\n",
    "    words = list(dictt.token)\n",
    "    adjective = dictt.Adjective\n",
    "\n",
    "    if len(words)==len(adjective):\n",
    "        pos_dictionary = {}\n",
    "        for index in range(len(words)):\n",
    "            pos_dictionary[words[index]] = adjective[index].strip()\n",
    "    else:\n",
    "        print(\"words and respective tag not equal in database path :{}\".format(file_path))\n",
    "        return None\n",
    "\n",
    "    if token in pos_dictionary:\n",
    "        return (token , pos_dictionary[token])\n",
    "    else:\n",
    "        print(token + \" is not present in Database\")\n",
    "        return 0\n"
   ]
  },
  {
   "cell_type": "code",
   "execution_count": 28,
   "id": "35807e0e-7c1a-454f-a1d9-532ca679055d",
   "metadata": {},
   "outputs": [
    {
     "name": "stdout",
     "output_type": "stream",
     "text": [
      "Sentance :  عقل ګودرغاړهاولاړشو غاړه  افلاكو علم انشاء علم\n",
      "Tokens :  ['عقل', 'ګودرغاړهاولاړشو', 'غاړه', 'افلاكو', 'علم', 'انشاء', 'علم']\n",
      "('عقل', 'Noun')\n",
      "ګودرغاړهاولاړشو is not present in Database\n",
      "0\n",
      "غاړه is not present in Database\n",
      "0\n",
      "افلاكو is not present in Database\n",
      "0\n",
      "('علم', 'Abbreviation')\n",
      "انشاء is not present in Database\n",
      "0\n",
      "('علم', 'Abbreviation')\n"
     ]
    }
   ],
   "source": [
    "sen = open('Datasets/ao-kana.txt',encoding=\"utf8\").read()\n",
    "\n",
    "print(\"Sentance : \",sen)\n",
    "\n",
    "tokens = word_tokenize(sen)\n",
    "print(\"Tokens : \",tokens)\n",
    "\n",
    "\n",
    "for token in tokens:\n",
    "    print(POS_tag_From_Database(token))\n",
    "    "
   ]
  },
  {
   "cell_type": "code",
   "execution_count": null,
   "id": "285c77b7-bd3a-40d1-9603-b19bd330b122",
   "metadata": {},
   "outputs": [],
   "source": []
  },
  {
   "cell_type": "code",
   "execution_count": 42,
   "id": "f83d0ff2-9484-478f-b0bf-7deed026ff3b",
   "metadata": {},
   "outputs": [
    {
     "name": "stdout",
     "output_type": "stream",
     "text": [
      "Sentance :  عقل ګودرغاړهاولاړشو غاړه  افلاكو علم انشاء علم\n",
      "Tokens :  ['عقل', 'ګودرغاړهاولاړشو', 'غاړه', 'افلاكو', 'علم', 'انشاء', 'علم']\n"
     ]
    },
    {
     "ename": "TypeError",
     "evalue": "'module' object is not callable",
     "output_type": "error",
     "traceback": [
      "\u001b[0;31m---------------------------------------------------------------------------\u001b[0m",
      "\u001b[0;31mTypeError\u001b[0m                                 Traceback (most recent call last)",
      "\u001b[0;32m/tmp/ipykernel_237159/525770971.py\u001b[0m in \u001b[0;36m<module>\u001b[0;34m\u001b[0m\n\u001b[1;32m      8\u001b[0m \u001b[0;34m\u001b[0m\u001b[0m\n\u001b[1;32m      9\u001b[0m \u001b[0;32mfor\u001b[0m \u001b[0mtoken\u001b[0m \u001b[0;32min\u001b[0m \u001b[0mtokens\u001b[0m\u001b[0;34m:\u001b[0m\u001b[0;34m\u001b[0m\u001b[0;34m\u001b[0m\u001b[0m\n\u001b[0;32m---> 10\u001b[0;31m     \u001b[0mprint\u001b[0m\u001b[0;34m(\u001b[0m\u001b[0mPOS_tag_From_Database\u001b[0m\u001b[0;34m(\u001b[0m\u001b[0mtoken\u001b[0m\u001b[0;34m)\u001b[0m\u001b[0;34m)\u001b[0m\u001b[0;34m\u001b[0m\u001b[0;34m\u001b[0m\u001b[0m\n\u001b[0m\u001b[1;32m     11\u001b[0m \u001b[0;34m\u001b[0m\u001b[0m\n",
      "\u001b[0;31mTypeError\u001b[0m: 'module' object is not callable"
     ]
    }
   ],
   "source": []
  },
  {
   "cell_type": "code",
   "execution_count": null,
   "id": "e6e7fdc8-bdf6-4540-a461-eec4b15e6fbb",
   "metadata": {},
   "outputs": [],
   "source": []
  },
  {
   "cell_type": "code",
   "execution_count": 13,
   "id": "813b1481-8dae-41c0-aaf0-007279e6dd1f",
   "metadata": {},
   "outputs": [
    {
     "data": {
      "text/plain": [
       "{}"
      ]
     },
     "execution_count": 13,
     "metadata": {},
     "output_type": "execute_result"
    }
   ],
   "source": []
  },
  {
   "cell_type": "code",
   "execution_count": 27,
   "id": "16148e84-3f69-4f1f-b9ed-f7fe68f5bf36",
   "metadata": {},
   "outputs": [
    {
     "name": "stdout",
     "output_type": "stream",
     "text": [
      "Requirement already satisfied: openpyxl in /home/iffishells/anaconda3/lib/python3.8/site-packages (3.0.7)\n",
      "Requirement already satisfied: et-xmlfile in /home/iffishells/anaconda3/lib/python3.8/site-packages (from openpyxl) (1.1.0)\n"
     ]
    }
   ],
   "source": []
  },
  {
   "cell_type": "code",
   "execution_count": null,
   "id": "2f3bf315-9c8b-40ed-adc8-b5e306bc2cd4",
   "metadata": {},
   "outputs": [],
   "source": []
  }
 ],
 "metadata": {
  "kernelspec": {
   "display_name": "Python 3 (ipykernel)",
   "language": "python",
   "name": "python3"
  },
  "language_info": {
   "codemirror_mode": {
    "name": "ipython",
    "version": 3
   },
   "file_extension": ".py",
   "mimetype": "text/x-python",
   "name": "python",
   "nbconvert_exporter": "python",
   "pygments_lexer": "ipython3",
   "version": "3.8.12"
  }
 },
 "nbformat": 4,
 "nbformat_minor": 5
}
