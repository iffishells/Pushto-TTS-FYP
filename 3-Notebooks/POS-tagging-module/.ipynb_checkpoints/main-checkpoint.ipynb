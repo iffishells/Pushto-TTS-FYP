{
 "cells": [
  {
   "cell_type": "code",
   "execution_count": 5,
   "id": "a045399a-4d52-4661-b041-cd97bd35a290",
   "metadata": {},
   "outputs": [],
   "source": [
    "import nltk\n",
    "import re\n",
    "import string\n",
    "from nltk.tokenize import word_tokenize\n",
    "import os\n",
    "import xml.etree.ElementTree as etree\n",
    "import pandas as pd\n"
   ]
  },
  {
   "cell_type": "code",
   "execution_count": 6,
   "id": "3e920268-b8e5-4532-be2a-eb3861d695e6",
   "metadata": {},
   "outputs": [],
   "source": [
    "# import modules\n",
    "# from Modules import POS_tag_From_Database   \n",
    "\n",
    "\n",
    "\n",
    "def POS_tag_From_Database(token):\n",
    "    ''' POS_tag_From_Database take single parameter which is token in pashto\n",
    "    and return the respective part of speech tag from the database\n",
    "    if len(words)==len(adjective) is not equal will return None\n",
    "    return None if word not present in database\n",
    "    '''\n",
    "    \n",
    "    file_path = \"Datasets/Pastho-dictionary(pos).xlsx\"\n",
    "    dictt = pd.read_excel(file_path)\n",
    "\n",
    "    words = list(dictt.token)\n",
    "    adjective = dictt.Adjective\n",
    "\n",
    "    if len(words)==len(adjective):\n",
    "        pos_dictionary = {}\n",
    "        for index in range(len(words)):\n",
    "            pos_dictionary[words[index]] = adjective[index].strip()\n",
    "    else:\n",
    "        print(\"words and respective tag not equal in database path :{}\".format(file_path))\n",
    "        return None\n",
    "\n",
    "    if token in pos_dictionary:\n",
    "        return (token , pos_dictionary[token])\n",
    "    else:\n",
    "        ## apply some rules on those words whose are present in the database\n",
    "        pass\n",
    "    \n",
    "    \n",
    "    \n",
    "if __name__ == '__main__':\n",
    "    pass\n",
    "    "
   ]
  },
  {
   "cell_type": "code",
   "execution_count": 7,
   "id": "35807e0e-7c1a-454f-a1d9-532ca679055d",
   "metadata": {},
   "outputs": [
    {
     "ename": "LookupError",
     "evalue": "\n**********************************************************************\n  Resource \u001b[93mpunkt\u001b[0m not found.\n  Please use the NLTK Downloader to obtain the resource:\n\n  \u001b[31m>>> import nltk\n  >>> nltk.download('punkt')\n  \u001b[0m\n  For more information see: https://www.nltk.org/data.html\n\n  Attempted to load \u001b[93mtokenizers/punkt/PY3/english.pickle\u001b[0m\n\n  Searched in:\n    - '/home/ifti/nltk_data'\n    - '/home/ifti/anaconda3/nltk_data'\n    - '/home/ifti/anaconda3/share/nltk_data'\n    - '/home/ifti/anaconda3/lib/nltk_data'\n    - '/usr/share/nltk_data'\n    - '/usr/local/share/nltk_data'\n    - '/usr/lib/nltk_data'\n    - '/usr/local/lib/nltk_data'\n    - ''\n**********************************************************************\n",
     "output_type": "error",
     "traceback": [
      "\u001b[0;31m---------------------------------------------------------------------------\u001b[0m",
      "\u001b[0;31mLookupError\u001b[0m                               Traceback (most recent call last)",
      "\u001b[0;32m/tmp/ipykernel_41274/531110543.py\u001b[0m in \u001b[0;36m<module>\u001b[0;34m\u001b[0m\n\u001b[1;32m    105\u001b[0m     \u001b[0msent\u001b[0m \u001b[0;34m=\u001b[0m \u001b[0;34m\"جمال د ګټے خو وو نه، لوږے تندے پرے تېرېدے اتاشه\"\u001b[0m\u001b[0;34m\u001b[0m\u001b[0;34m\u001b[0m\u001b[0m\n\u001b[1;32m    106\u001b[0m     \u001b[0mpos\u001b[0m \u001b[0;34m=\u001b[0m \u001b[0mPOS\u001b[0m\u001b[0;34m(\u001b[0m\u001b[0;34m)\u001b[0m\u001b[0;34m\u001b[0m\u001b[0;34m\u001b[0m\u001b[0m\n\u001b[0;32m--> 107\u001b[0;31m     \u001b[0mpos\u001b[0m\u001b[0;34m.\u001b[0m\u001b[0mtagging\u001b[0m\u001b[0;34m(\u001b[0m\u001b[0msent\u001b[0m\u001b[0;34m)\u001b[0m\u001b[0;34m\u001b[0m\u001b[0;34m\u001b[0m\u001b[0m\n\u001b[0m\u001b[1;32m    108\u001b[0m     \u001b[0;31m# for data integration\u001b[0m\u001b[0;34m\u001b[0m\u001b[0;34m\u001b[0m\u001b[0m\n\u001b[1;32m    109\u001b[0m     \u001b[0mwords\u001b[0m \u001b[0;34m,\u001b[0m \u001b[0mpart_of_speech\u001b[0m \u001b[0;34m=\u001b[0m \u001b[0mpos\u001b[0m\u001b[0;34m.\u001b[0m\u001b[0mcombining_dicts\u001b[0m\u001b[0;34m(\u001b[0m\u001b[0;34m\"Datasets/Pastho-dictionary(pos).xlsx\"\u001b[0m \u001b[0;34m,\u001b[0m \u001b[0;34m\"Datasets/dictionary.csv\"\u001b[0m\u001b[0;34m)\u001b[0m\u001b[0;34m\u001b[0m\u001b[0;34m\u001b[0m\u001b[0m\n",
      "\u001b[0;32m/tmp/ipykernel_41274/531110543.py\u001b[0m in \u001b[0;36mtagging\u001b[0;34m(self, sentance)\u001b[0m\n\u001b[1;32m     13\u001b[0m     \u001b[0;32mdef\u001b[0m \u001b[0mtagging\u001b[0m\u001b[0;34m(\u001b[0m\u001b[0mself\u001b[0m \u001b[0;34m,\u001b[0m\u001b[0msentance\u001b[0m\u001b[0;34m)\u001b[0m\u001b[0;34m:\u001b[0m\u001b[0;34m\u001b[0m\u001b[0;34m\u001b[0m\u001b[0m\n\u001b[1;32m     14\u001b[0m \u001b[0;34m\u001b[0m\u001b[0m\n\u001b[0;32m---> 15\u001b[0;31m         \u001b[0mtoknize_into_words\u001b[0m \u001b[0;34m=\u001b[0m \u001b[0mnltk\u001b[0m\u001b[0;34m.\u001b[0m\u001b[0mword_tokenize\u001b[0m\u001b[0;34m(\u001b[0m\u001b[0msentance\u001b[0m\u001b[0;34m)\u001b[0m\u001b[0;34m\u001b[0m\u001b[0;34m\u001b[0m\u001b[0m\n\u001b[0m\u001b[1;32m     16\u001b[0m \u001b[0;34m\u001b[0m\u001b[0m\n\u001b[1;32m     17\u001b[0m         \u001b[0mdata\u001b[0m \u001b[0;34m=\u001b[0m \u001b[0mpd\u001b[0m\u001b[0;34m.\u001b[0m\u001b[0mread_csv\u001b[0m\u001b[0;34m(\u001b[0m\u001b[0;34m\"dictionary.csv\"\u001b[0m\u001b[0;34m)\u001b[0m\u001b[0;34m\u001b[0m\u001b[0;34m\u001b[0m\u001b[0m\n",
      "\u001b[0;32m~/anaconda3/lib/python3.9/site-packages/nltk/tokenize/__init__.py\u001b[0m in \u001b[0;36mword_tokenize\u001b[0;34m(text, language, preserve_line)\u001b[0m\n\u001b[1;32m    127\u001b[0m     \u001b[0;34m:\u001b[0m\u001b[0mtype\u001b[0m \u001b[0mpreserve_line\u001b[0m\u001b[0;34m:\u001b[0m \u001b[0mbool\u001b[0m\u001b[0;34m\u001b[0m\u001b[0;34m\u001b[0m\u001b[0m\n\u001b[1;32m    128\u001b[0m     \"\"\"\n\u001b[0;32m--> 129\u001b[0;31m     \u001b[0msentences\u001b[0m \u001b[0;34m=\u001b[0m \u001b[0;34m[\u001b[0m\u001b[0mtext\u001b[0m\u001b[0;34m]\u001b[0m \u001b[0;32mif\u001b[0m \u001b[0mpreserve_line\u001b[0m \u001b[0;32melse\u001b[0m \u001b[0msent_tokenize\u001b[0m\u001b[0;34m(\u001b[0m\u001b[0mtext\u001b[0m\u001b[0;34m,\u001b[0m \u001b[0mlanguage\u001b[0m\u001b[0;34m)\u001b[0m\u001b[0;34m\u001b[0m\u001b[0;34m\u001b[0m\u001b[0m\n\u001b[0m\u001b[1;32m    130\u001b[0m     return [\n\u001b[1;32m    131\u001b[0m         \u001b[0mtoken\u001b[0m \u001b[0;32mfor\u001b[0m \u001b[0msent\u001b[0m \u001b[0;32min\u001b[0m \u001b[0msentences\u001b[0m \u001b[0;32mfor\u001b[0m \u001b[0mtoken\u001b[0m \u001b[0;32min\u001b[0m \u001b[0m_treebank_word_tokenizer\u001b[0m\u001b[0;34m.\u001b[0m\u001b[0mtokenize\u001b[0m\u001b[0;34m(\u001b[0m\u001b[0msent\u001b[0m\u001b[0;34m)\u001b[0m\u001b[0;34m\u001b[0m\u001b[0;34m\u001b[0m\u001b[0m\n",
      "\u001b[0;32m~/anaconda3/lib/python3.9/site-packages/nltk/tokenize/__init__.py\u001b[0m in \u001b[0;36msent_tokenize\u001b[0;34m(text, language)\u001b[0m\n\u001b[1;32m    104\u001b[0m     \u001b[0;34m:\u001b[0m\u001b[0mparam\u001b[0m \u001b[0mlanguage\u001b[0m\u001b[0;34m:\u001b[0m \u001b[0mthe\u001b[0m \u001b[0mmodel\u001b[0m \u001b[0mname\u001b[0m \u001b[0;32min\u001b[0m \u001b[0mthe\u001b[0m \u001b[0mPunkt\u001b[0m \u001b[0mcorpus\u001b[0m\u001b[0;34m\u001b[0m\u001b[0;34m\u001b[0m\u001b[0m\n\u001b[1;32m    105\u001b[0m     \"\"\"\n\u001b[0;32m--> 106\u001b[0;31m     \u001b[0mtokenizer\u001b[0m \u001b[0;34m=\u001b[0m \u001b[0mload\u001b[0m\u001b[0;34m(\u001b[0m\u001b[0;34mf\"tokenizers/punkt/{language}.pickle\"\u001b[0m\u001b[0;34m)\u001b[0m\u001b[0;34m\u001b[0m\u001b[0;34m\u001b[0m\u001b[0m\n\u001b[0m\u001b[1;32m    107\u001b[0m     \u001b[0;32mreturn\u001b[0m \u001b[0mtokenizer\u001b[0m\u001b[0;34m.\u001b[0m\u001b[0mtokenize\u001b[0m\u001b[0;34m(\u001b[0m\u001b[0mtext\u001b[0m\u001b[0;34m)\u001b[0m\u001b[0;34m\u001b[0m\u001b[0;34m\u001b[0m\u001b[0m\n\u001b[1;32m    108\u001b[0m \u001b[0;34m\u001b[0m\u001b[0m\n",
      "\u001b[0;32m~/anaconda3/lib/python3.9/site-packages/nltk/data.py\u001b[0m in \u001b[0;36mload\u001b[0;34m(resource_url, format, cache, verbose, logic_parser, fstruct_reader, encoding)\u001b[0m\n\u001b[1;32m    748\u001b[0m \u001b[0;34m\u001b[0m\u001b[0m\n\u001b[1;32m    749\u001b[0m     \u001b[0;31m# Load the resource.\u001b[0m\u001b[0;34m\u001b[0m\u001b[0;34m\u001b[0m\u001b[0m\n\u001b[0;32m--> 750\u001b[0;31m     \u001b[0mopened_resource\u001b[0m \u001b[0;34m=\u001b[0m \u001b[0m_open\u001b[0m\u001b[0;34m(\u001b[0m\u001b[0mresource_url\u001b[0m\u001b[0;34m)\u001b[0m\u001b[0;34m\u001b[0m\u001b[0;34m\u001b[0m\u001b[0m\n\u001b[0m\u001b[1;32m    751\u001b[0m \u001b[0;34m\u001b[0m\u001b[0m\n\u001b[1;32m    752\u001b[0m     \u001b[0;32mif\u001b[0m \u001b[0mformat\u001b[0m \u001b[0;34m==\u001b[0m \u001b[0;34m\"raw\"\u001b[0m\u001b[0;34m:\u001b[0m\u001b[0;34m\u001b[0m\u001b[0;34m\u001b[0m\u001b[0m\n",
      "\u001b[0;32m~/anaconda3/lib/python3.9/site-packages/nltk/data.py\u001b[0m in \u001b[0;36m_open\u001b[0;34m(resource_url)\u001b[0m\n\u001b[1;32m    874\u001b[0m \u001b[0;34m\u001b[0m\u001b[0m\n\u001b[1;32m    875\u001b[0m     \u001b[0;32mif\u001b[0m \u001b[0mprotocol\u001b[0m \u001b[0;32mis\u001b[0m \u001b[0;32mNone\u001b[0m \u001b[0;32mor\u001b[0m \u001b[0mprotocol\u001b[0m\u001b[0;34m.\u001b[0m\u001b[0mlower\u001b[0m\u001b[0;34m(\u001b[0m\u001b[0;34m)\u001b[0m \u001b[0;34m==\u001b[0m \u001b[0;34m\"nltk\"\u001b[0m\u001b[0;34m:\u001b[0m\u001b[0;34m\u001b[0m\u001b[0;34m\u001b[0m\u001b[0m\n\u001b[0;32m--> 876\u001b[0;31m         \u001b[0;32mreturn\u001b[0m \u001b[0mfind\u001b[0m\u001b[0;34m(\u001b[0m\u001b[0mpath_\u001b[0m\u001b[0;34m,\u001b[0m \u001b[0mpath\u001b[0m \u001b[0;34m+\u001b[0m \u001b[0;34m[\u001b[0m\u001b[0;34m\"\"\u001b[0m\u001b[0;34m]\u001b[0m\u001b[0;34m)\u001b[0m\u001b[0;34m.\u001b[0m\u001b[0mopen\u001b[0m\u001b[0;34m(\u001b[0m\u001b[0;34m)\u001b[0m\u001b[0;34m\u001b[0m\u001b[0;34m\u001b[0m\u001b[0m\n\u001b[0m\u001b[1;32m    877\u001b[0m     \u001b[0;32melif\u001b[0m \u001b[0mprotocol\u001b[0m\u001b[0;34m.\u001b[0m\u001b[0mlower\u001b[0m\u001b[0;34m(\u001b[0m\u001b[0;34m)\u001b[0m \u001b[0;34m==\u001b[0m \u001b[0;34m\"file\"\u001b[0m\u001b[0;34m:\u001b[0m\u001b[0;34m\u001b[0m\u001b[0;34m\u001b[0m\u001b[0m\n\u001b[1;32m    878\u001b[0m         \u001b[0;31m# urllib might not use mode='rb', so handle this one ourselves:\u001b[0m\u001b[0;34m\u001b[0m\u001b[0;34m\u001b[0m\u001b[0m\n",
      "\u001b[0;32m~/anaconda3/lib/python3.9/site-packages/nltk/data.py\u001b[0m in \u001b[0;36mfind\u001b[0;34m(resource_name, paths)\u001b[0m\n\u001b[1;32m    581\u001b[0m     \u001b[0msep\u001b[0m \u001b[0;34m=\u001b[0m \u001b[0;34m\"*\"\u001b[0m \u001b[0;34m*\u001b[0m \u001b[0;36m70\u001b[0m\u001b[0;34m\u001b[0m\u001b[0;34m\u001b[0m\u001b[0m\n\u001b[1;32m    582\u001b[0m     \u001b[0mresource_not_found\u001b[0m \u001b[0;34m=\u001b[0m \u001b[0;34mf\"\\n{sep}\\n{msg}\\n{sep}\\n\"\u001b[0m\u001b[0;34m\u001b[0m\u001b[0;34m\u001b[0m\u001b[0m\n\u001b[0;32m--> 583\u001b[0;31m     \u001b[0;32mraise\u001b[0m \u001b[0mLookupError\u001b[0m\u001b[0;34m(\u001b[0m\u001b[0mresource_not_found\u001b[0m\u001b[0;34m)\u001b[0m\u001b[0;34m\u001b[0m\u001b[0;34m\u001b[0m\u001b[0m\n\u001b[0m\u001b[1;32m    584\u001b[0m \u001b[0;34m\u001b[0m\u001b[0m\n\u001b[1;32m    585\u001b[0m \u001b[0;34m\u001b[0m\u001b[0m\n",
      "\u001b[0;31mLookupError\u001b[0m: \n**********************************************************************\n  Resource \u001b[93mpunkt\u001b[0m not found.\n  Please use the NLTK Downloader to obtain the resource:\n\n  \u001b[31m>>> import nltk\n  >>> nltk.download('punkt')\n  \u001b[0m\n  For more information see: https://www.nltk.org/data.html\n\n  Attempted to load \u001b[93mtokenizers/punkt/PY3/english.pickle\u001b[0m\n\n  Searched in:\n    - '/home/ifti/nltk_data'\n    - '/home/ifti/anaconda3/nltk_data'\n    - '/home/ifti/anaconda3/share/nltk_data'\n    - '/home/ifti/anaconda3/lib/nltk_data'\n    - '/usr/share/nltk_data'\n    - '/usr/local/share/nltk_data'\n    - '/usr/lib/nltk_data'\n    - '/usr/local/lib/nltk_data'\n    - ''\n**********************************************************************\n"
     ]
    }
   ],
   "source": [
    "import pandas as pd\n",
    "import numpy as np\n",
    "\n",
    "class POS:\n",
    "    \n",
    "    \n",
    "    def __init__(self):\n",
    "        pass\n",
    "        \n",
    "\n",
    "        ## POS tagging\n",
    "\n",
    "    def tagging(self ,sentance):\n",
    "\n",
    "        toknize_into_words = nltk.word_tokenize(sentance)\n",
    "\n",
    "        data = pd.read_csv(\"dictionary.csv\")\n",
    "\n",
    "\n",
    "        list_of_words = list(data['WORD'])\n",
    "        list_of_tags = list(data[\"POS\"])\n",
    "        print(toknize_into_words)\n",
    "\n",
    "        for index , word  in enumerate(toknize_into_words):\n",
    "            print(\"index : {} , words : {}\".format(index,word))\n",
    "            if word in list_of_words:\n",
    "                print(word, list_of_tags[index])\n",
    "                \n",
    "    def combining_dicts(self,filepath_1,filepath_2):\n",
    "        \n",
    "        # file 2\n",
    "        file2 = pd.read_csv(filepath_2)\n",
    "        word = list(file2.WORD)\n",
    "        POS = list(file2.POS)\n",
    "        if len(word)==len(POS):\n",
    "            pos_dictionary_2 = {}\n",
    "\n",
    "            for index in range(len(word)):\n",
    "                pos_dictionary_2[word[index]] = POS[index].strip()\n",
    "                \n",
    "        \n",
    "        \n",
    "        \n",
    "#         # file 1\n",
    "        file1 = pd.read_excel(filepath_1)\n",
    "\n",
    "        words = list(file1.token)\n",
    "        adjective = list(file1.Adjective)\n",
    "        if len(words)==len(adjective):\n",
    "            pos_dictionary_1 = {}\n",
    "            for index in range(len(words)):\n",
    "                pos_dictionary_1[words[index]] = adjective[index].strip()\n",
    "                \n",
    "        for index in range(len(words)):\n",
    "            word.append(words[index])\n",
    "            POS.append(adjective[index])\n",
    "        \n",
    "        \n",
    "        print(\"lenght of word : {} end lenght of POS :{} \".format(len(word),len(POS)))\n",
    "        \n",
    "        return word ,POS\n",
    "\n",
    "    #now get two list of the words and respective POS\n",
    "    def make_dataframe(self,list_of_word ,list_of_POS):\n",
    "        \n",
    "        dict_dataframe = {\n",
    "            \"words\" : list_of_word,\n",
    "            \"POS\" : list_of_POS\n",
    "        }\n",
    "        \n",
    "        data = pd.DataFrame(dict_dataframe ,index = False ,header=False)\n",
    "        \n",
    "        data.to_csv(\"Pashto_pos_dict.csv\",header=True ,index=False)\n",
    "    def Tagging(self,sent,database):\n",
    "        print(\"Given sentance : \",sent)\n",
    "        \n",
    "        tokenized = nltk.word_tokenize(sent) # just for sake of the moment making token at the space level.\n",
    "        \n",
    "        pos_dictionary = {}\n",
    "        \n",
    "        words_list = list(database[\"words\"])\n",
    "        pos_list = list(database[\"POS\"])\n",
    "        \n",
    "        for index,word in enumerate(words_list):\n",
    "            pos_dictionary[word] = pos_list[index]\n",
    "            \n",
    "            \n",
    "#         print(\"POS Dictionary : \",pos_dictionary)\n",
    "        print(\"Tokenized Sentance : \",tokenized)\n",
    "        \n",
    "    \n",
    "        \n",
    "        for index,word in enumerate(tokenized):\n",
    "            print(\"Index : {} and word : {}\".format(index ,word))\n",
    "            \n",
    "            if word in pos_dictionary:\n",
    "                print(\"found\")\n",
    "                print(pos_dictionary[word])\n",
    "            else:\n",
    "                print(\"Not found : \",word)\n",
    "            \n",
    "        \n",
    "    \n",
    "if __name__ == '__main__':\n",
    "    sent = \"جمال د ګټے خو وو نه، لوږے تندے پرے تېرېدے اتاشه \"\n",
    "    pos = POS()\n",
    "    pos.tagging(sent)\n",
    "    # for data integration\n",
    "    words , part_of_speech = pos.combining_dicts(\"Datasets/Pastho-dictionary(pos).xlsx\" , \"Datasets/dictionary.csv\")\n",
    "    pos.make_dataframe(words,part_of_speech)\n",
    "    print(len(words),len(part_of_speech))\n",
    "    \n",
    "    file_path = \"Pashto_pos_dict.csv\"\n",
    "    database = pd.read_csv(file_path)\n",
    "    pos.Tagging(sent, database)\n"
   ]
  },
  {
   "cell_type": "code",
   "execution_count": 15,
   "id": "285c77b7-bd3a-40d1-9603-b19bd330b122",
   "metadata": {},
   "outputs": [
    {
     "ename": "TypeError",
     "evalue": "from_dict() got an unexpected keyword argument 'index'",
     "output_type": "error",
     "traceback": [
      "\u001b[0;31m---------------------------------------------------------------------------\u001b[0m",
      "\u001b[0;31mTypeError\u001b[0m                                 Traceback (most recent call last)",
      "\u001b[0;32m/tmp/ipykernel_28280/1779471428.py\u001b[0m in \u001b[0;36m<module>\u001b[0;34m\u001b[0m\n\u001b[1;32m     12\u001b[0m \u001b[0;31m# file_1_dataframe.head(5)\u001b[0m\u001b[0;34m\u001b[0m\u001b[0;34m\u001b[0m\u001b[0;34m\u001b[0m\u001b[0m\n\u001b[1;32m     13\u001b[0m \u001b[0;34m\u001b[0m\u001b[0m\n\u001b[0;32m---> 14\u001b[0;31m \u001b[0mdf\u001b[0m \u001b[0;34m=\u001b[0m\u001b[0mpd\u001b[0m\u001b[0;34m.\u001b[0m\u001b[0mDataFrame\u001b[0m\u001b[0;34m.\u001b[0m\u001b[0mfrom_dict\u001b[0m\u001b[0;34m(\u001b[0m\u001b[0mpos_dictionary_1\u001b[0m\u001b[0;34m,\u001b[0m\u001b[0mindex\u001b[0m \u001b[0;34m=\u001b[0m \u001b[0mnp\u001b[0m\u001b[0;34m.\u001b[0m\u001b[0marange\u001b[0m\u001b[0;34m(\u001b[0m\u001b[0mlen\u001b[0m\u001b[0;34m(\u001b[0m\u001b[0mwords\u001b[0m\u001b[0;34m)\u001b[0m\u001b[0;34m)\u001b[0m\u001b[0;34m)\u001b[0m\u001b[0;34m\u001b[0m\u001b[0;34m\u001b[0m\u001b[0m\n\u001b[0m\u001b[1;32m     15\u001b[0m \u001b[0mdf\u001b[0m\u001b[0;34m.\u001b[0m\u001b[0mhead\u001b[0m\u001b[0;34m(\u001b[0m\u001b[0;34m)\u001b[0m\u001b[0;34m\u001b[0m\u001b[0;34m\u001b[0m\u001b[0m\n\u001b[1;32m     16\u001b[0m \u001b[0;34m\u001b[0m\u001b[0m\n",
      "\u001b[0;31mTypeError\u001b[0m: from_dict() got an unexpected keyword argument 'index'"
     ]
    }
   ],
   "source": [
    "dictt = pd.read_excel(\"Datasets/Pastho-dictionary(pos).xlsx\")\n",
    "\n",
    "words = list(dictt.token)\n",
    "adjective = dictt.Adjective\n",
    "if len(words)==len(adjective):\n",
    "    pos_dictionary_1 = {}\n",
    "    for index in range(len(words)):\n",
    "        pos_dictionary_1[words[index]] = adjective[index].strip()\n",
    "\n",
    "        \n",
    "# file_1_dataframe = pd.DataFrame(pos_dictionary_1 ,index =np.arange(len(words)))\n",
    "# file_1_dataframe.head(5)\n",
    "        \n",
    "df =pd.DataFrame.from_dict(pos_dictionary_1,index = np.arange(len(words)))\n",
    "df.head()\n",
    "\n"
   ]
  },
  {
   "cell_type": "code",
   "execution_count": 27,
   "id": "f83d0ff2-9484-478f-b0bf-7deed026ff3b",
   "metadata": {},
   "outputs": [
    {
     "name": "stdout",
     "output_type": "stream",
     "text": [
      "<class 'tuple'>\n"
     ]
    }
   ],
   "source": [
    "def num(arg1,arg2):\n",
    "    return arg1,arg2\n",
    "\n",
    "\n",
    "print(type(num(1,3)))"
   ]
  },
  {
   "cell_type": "code",
   "execution_count": 42,
   "id": "e6e7fdc8-bdf6-4540-a461-eec4b15e6fbb",
   "metadata": {},
   "outputs": [
    {
     "data": {
      "text/plain": [
       "list"
      ]
     },
     "execution_count": 42,
     "metadata": {},
     "output_type": "execute_result"
    }
   ],
   "source": [
    "li = list([1,2,3])\n",
    "type(li)"
   ]
  },
  {
   "cell_type": "code",
   "execution_count": 41,
   "id": "813b1481-8dae-41c0-aaf0-007279e6dd1f",
   "metadata": {},
   "outputs": [],
   "source": []
  },
  {
   "cell_type": "code",
   "execution_count": 49,
   "id": "16148e84-3f69-4f1f-b9ed-f7fe68f5bf36",
   "metadata": {},
   "outputs": [
    {
     "ename": "TypeError",
     "evalue": "from_dict() got an unexpected keyword argument 'index'",
     "output_type": "error",
     "traceback": [
      "\u001b[0;31m---------------------------------------------------------------------------\u001b[0m",
      "\u001b[0;31mTypeError\u001b[0m                                 Traceback (most recent call last)",
      "\u001b[0;32m/tmp/ipykernel_1973759/4014103412.py\u001b[0m in \u001b[0;36m<module>\u001b[0;34m\u001b[0m\n\u001b[1;32m      2\u001b[0m \u001b[0mdic_2\u001b[0m \u001b[0;34m=\u001b[0m \u001b[0;34m{\u001b[0m\u001b[0;34m\"2\"\u001b[0m\u001b[0;34m:\u001b[0m\u001b[0;36m2\u001b[0m\u001b[0;34m}\u001b[0m\u001b[0;34m\u001b[0m\u001b[0;34m\u001b[0m\u001b[0m\n\u001b[1;32m      3\u001b[0m \u001b[0mcombined_dict\u001b[0m \u001b[0;34m=\u001b[0m \u001b[0mdict\u001b[0m\u001b[0;34m(\u001b[0m\u001b[0mChainMap\u001b[0m\u001b[0;34m(\u001b[0m\u001b[0mpos_dictionary_1\u001b[0m\u001b[0;34m,\u001b[0m \u001b[0mpos_dictionary_2\u001b[0m\u001b[0;34m)\u001b[0m\u001b[0;34m)\u001b[0m \u001b[0;31m# passes two parameters as an argument\u001b[0m\u001b[0;34m\u001b[0m\u001b[0;34m\u001b[0m\u001b[0m\n\u001b[0;32m----> 4\u001b[0;31m \u001b[0mdf\u001b[0m \u001b[0;34m=\u001b[0m \u001b[0mpd\u001b[0m\u001b[0;34m.\u001b[0m\u001b[0mDataFrame\u001b[0m\u001b[0;34m.\u001b[0m\u001b[0mfrom_dict\u001b[0m\u001b[0;34m(\u001b[0m\u001b[0mcombined_dict\u001b[0m \u001b[0;34m,\u001b[0m\u001b[0mindex\u001b[0m \u001b[0;34m=\u001b[0m \u001b[0mnp\u001b[0m\u001b[0;34m.\u001b[0m\u001b[0marange\u001b[0m\u001b[0;34m(\u001b[0m\u001b[0;36m10\u001b[0m\u001b[0;34m)\u001b[0m\u001b[0;34m)\u001b[0m\u001b[0;34m\u001b[0m\u001b[0;34m\u001b[0m\u001b[0m\n\u001b[0m",
      "\u001b[0;31mTypeError\u001b[0m: from_dict() got an unexpected keyword argument 'index'"
     ]
    }
   ],
   "source": []
  },
  {
   "cell_type": "code",
   "execution_count": 47,
   "id": "2f3bf315-9c8b-40ed-adc8-b5e306bc2cd4",
   "metadata": {},
   "outputs": [
    {
     "name": "stdout",
     "output_type": "stream",
     "text": [
      "[0 1 2 3 4 5 6 7 8 9]\n"
     ]
    }
   ],
   "source": [
    "import numpy as np\n",
    "print(np.arange(10))"
   ]
  },
  {
   "cell_type": "code",
   "execution_count": null,
   "id": "2cd550d3-912f-48c4-8844-726344297923",
   "metadata": {},
   "outputs": [],
   "source": []
  }
 ],
 "metadata": {
  "kernelspec": {
   "display_name": "Python 3 (ipykernel)",
   "language": "python",
   "name": "python3"
  },
  "language_info": {
   "codemirror_mode": {
    "name": "ipython",
    "version": 3
   },
   "file_extension": ".py",
   "mimetype": "text/x-python",
   "name": "python",
   "nbconvert_exporter": "python",
   "pygments_lexer": "ipython3",
   "version": "3.9.7"
  }
 },
 "nbformat": 4,
 "nbformat_minor": 5
}
