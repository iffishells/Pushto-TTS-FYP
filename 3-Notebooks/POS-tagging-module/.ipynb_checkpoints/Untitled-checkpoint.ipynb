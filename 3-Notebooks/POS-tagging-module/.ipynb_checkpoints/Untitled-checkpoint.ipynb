{
 "cells": [
  {
   "cell_type": "code",
   "execution_count": 2,
   "id": "ae26fb96",
   "metadata": {},
   "outputs": [],
   "source": [
    "#import lib\n",
    "import pandas as pd\n"
   ]
  },
  {
   "cell_type": "code",
   "execution_count": 1,
   "id": "86fa35be",
   "metadata": {},
   "outputs": [],
   "source": [
    "# converion of xml data into other form\n",
    "\n",
    "path = \"dict/1.xml\"\n",
    "\n",
    "data = pd.read_xml(path)"
   ]
  },
  {
   "cell_type": "code",
   "execution_count": null,
   "id": "09177c00-42cc-4c73-955c-ad09263d9208",
   "metadata": {},
   "outputs": [],
   "source": []
  }
 ],
 "metadata": {
  "kernelspec": {
   "display_name": "Python 3 (ipykernel)",
   "language": "python",
   "name": "python3"
  },
  "language_info": {
   "codemirror_mode": {
    "name": "ipython",
    "version": 3
   },
   "file_extension": ".py",
   "mimetype": "text/x-python",
   "name": "python",
   "nbconvert_exporter": "python",
   "pygments_lexer": "ipython3",
   "version": "3.8.12"
  }
 },
 "nbformat": 4,
 "nbformat_minor": 5
}
