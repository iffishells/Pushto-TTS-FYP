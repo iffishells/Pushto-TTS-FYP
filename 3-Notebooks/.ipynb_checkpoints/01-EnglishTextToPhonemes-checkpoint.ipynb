{
 "cells": [
  {
   "cell_type": "code",
   "execution_count": 4,
   "id": "9ec1e14f-4ed6-41ee-9be8-b70ea16e708b",
   "metadata": {},
   "outputs": [],
   "source": [
    "# installing module \n",
    "\n",
    "# !pip install eng-to-ipa\n",
    "# !pip install --upgrade pip"
   ]
  },
  {
   "cell_type": "code",
   "execution_count": 14,
   "id": "49b4aee5-e0da-40c2-b2c1-eef8c2c5a7c8",
   "metadata": {},
   "outputs": [
    {
     "data": {
      "text/plain": [
       "'hɛˈloʊ giks'"
      ]
     },
     "execution_count": 14,
     "metadata": {},
     "output_type": "execute_result"
    }
   ],
   "source": [
    "# conversion English text to phonetics\n",
    "\n",
    "import eng_to_ipa as phonetics\n",
    "\n",
    "phonetics.convert(\"hello geeks\")\n",
    "\n"
   ]
  },
  {
   "cell_type": "code",
   "execution_count": 12,
   "id": "ddd54b9a-fb36-4774-9338-a4aff68ceb95",
   "metadata": {},
   "outputs": [
    {
     "name": "stdout",
     "output_type": "stream",
     "text": [
      "[['jɛs'], ['aɪ'], ['noʊ'], ['ðɪs'], ['ɪz'], ['ˈvɛri'], ['ˈkɑmən.']]\n",
      "[['jɛs'], ['aɪ'], ['eɪɛm', 'æm'], ['giks'], [',haʊ'], ['ɑr', 'ər'], ['ju']]\n"
     ]
    }
   ],
   "source": [
    "# instead of convert all english into phonetics they dooes all possible\n",
    "# transacription\n",
    "print(phonetics.ipa_list(\"Yes i know this is very common.\"))\n",
    "\n",
    "print(phonetics.ipa_list(\"Yes i am geeks ,how are you\"))"
   ]
  },
  {
   "cell_type": "code",
   "execution_count": null,
   "id": "e9978105-a6b4-4cd3-adab-2856aaa1764c",
   "metadata": {},
   "outputs": [
    {
     "name": "stdout",
     "output_type": "stream",
     "text": [
      "['antiques', 'batiks', 'beeks', \"belgique's\", 'bespeaks', 'boutiques', 'cheeks', \"creek's\", 'creeks', 'critiques', \"deak's\", 'eakes', 'freaks', 'greeks', 'leaks', 'leeks', 'meeks', 'peakes', \"peakes'\", 'peaks', \"peaks'\", 'peeks', 'reeks', 'seeks', 'seix', 'sheeks', \"sheik's\", 'sheiks', 'shrieks', 'sikhs', 'sneaks', 'speakes', 'speaks', 'squeaks', 'streaks', 'techniques', 'telephoniques', 'tweaks', 'weaks', \"week's\", 'weekes', 'weeks', \"weeks'\", 'wreaks']\n"
     ]
    }
   ],
   "source": [
    "# get_rhymes() return the list of the rhymes for a ord and sets of rods\n",
    "\n",
    "print(phonetics.get_rhymes(\"Gee\"))"
   ]
  }
 ],
 "metadata": {
  "kernelspec": {
   "display_name": "Python 3 (ipykernel)",
   "language": "python",
   "name": "python3"
  },
  "language_info": {
   "codemirror_mode": {
    "name": "ipython",
    "version": 3
   },
   "file_extension": ".py",
   "mimetype": "text/x-python",
   "name": "python",
   "nbconvert_exporter": "python",
   "pygments_lexer": "ipython3",
   "version": "3.8.11"
  }
 },
 "nbformat": 4,
 "nbformat_minor": 5
}
