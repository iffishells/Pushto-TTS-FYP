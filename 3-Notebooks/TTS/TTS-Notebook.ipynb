{
 "cells": [
  {
   "cell_type": "code",
   "execution_count": 59,
   "id": "326226b7-2e34-4893-acd5-4a8a826f8807",
   "metadata": {},
   "outputs": [],
   "source": [
    "import re\n",
    "#nltk.download('punkt')\n",
    "from nltk.tokenize import word_tokenize"
   ]
  },
  {
   "cell_type": "code",
   "execution_count": 76,
   "id": "5f8fc68d-339b-497a-b490-917cfa7572b7",
   "metadata": {},
   "outputs": [],
   "source": [
    "class TTS:\n",
    "    \n",
    "    def __init__(self):\n",
    "        \n",
    "        self.Sentance = self.UserInput()\n",
    "        \n",
    "        self.Normalized = self.Normalization(self.Sentance)\n",
    "        \n",
    "        self.Tokenized = self.Tokenization(self.Normalized)\n",
    "        \n",
    "        # self.TaggedSentance = self.Tagging(self.Tokenized)\n",
    "        \n",
    "        \n",
    "    def __str__(self):\n",
    "        print (\"Sentance :{}\\nNormalized Sentance :{}\\nTokenizedText :{})\".format(self.Sentance,self.Normalized,self.Tokenized))\n",
    "        \n",
    "    def UserInput(self):\n",
    "        \n",
    "        # for the time being store the sentance in files and read from that file\n",
    "        try: \n",
    "            try: \n",
    "                \n",
    "                Sent = open(\"UserInput.txt\" ,mode = 'r' , encoding='utf-8').read()\n",
    "                return Sent\n",
    "            except:\n",
    "                print(\"UserInput file is empty \")\n",
    "\n",
    "        except:\n",
    "            \n",
    "            print(\"Inputs are not defined in UserInput().\")\n",
    "            \n",
    "    def Normalization(self,Sentance ,encoding='utf-8'):\n",
    "        \n",
    "        \n",
    "        \n",
    "        # case 1 [Remove English character from Sentance]\n",
    "        DeletedEngChar = re.sub('[a-zA-Z]' ,\"\",Sentance)\n",
    "        \n",
    "        # case 2 [Remove Special character from DeletedEngChar]\n",
    "        \n",
    "        DeletedSpecialChar = re.sub( '[~!@#$%^&*()-_+]' , \"\",DeletedEngChar )\n",
    "        \n",
    "        # Can add more Usecases it here\n",
    "        \n",
    "        \n",
    "        \n",
    "        \n",
    "        # case 3 [Replace Counting digit to Pashto couting words]\n",
    "        \n",
    "        MathDigit = ['1','2','3','4','5','6','7','8','9','0']\n",
    "        \n",
    "        # iterate over all Math digit and replace with it\n",
    "        pasto_counting_dict = {\n",
    "           '1': \"يو\"\n",
    "             ,\n",
    "             '2': \"دؤه\",\n",
    "             '3':\"    درے\",\n",
    "             '4':\"څلور\",\n",
    "             '5':\"    پنځه\",\n",
    "             '6':\"شپږ\",\n",
    "             '7':\"أوؤه\",\n",
    "             '8':\"    أته\",\n",
    "             '9':\"نهه\",\n",
    "             '0' : \"صفر\"}\n",
    "        \n",
    "        \n",
    "        for digit in MathDigit:\n",
    "            DeletedSpecialChar = DeletedSpecialChar.replace(digit ,pasto_counting_dict[digit] )\n",
    "         \n",
    "        return DeletedSpecialChar\n",
    "        \n",
    "    def Tokenization(self,Sentance):\n",
    "        \n",
    "        \n",
    "        # case 1 [Removed extra spavce from the Sentance]\n",
    "        \n",
    "        FreeExtraSpaceText= Sentance.strip()\n",
    "        \n",
    "\n",
    "        # case 2 [Tokenization] from Python lib's\n",
    "        \n",
    "        TokenizedText = word_tokenize(FreeExtraSpaceText)\n",
    "        \n",
    "        \n",
    "        return TokenizedText\n",
    "    \n",
    "    \n",
    "    def Tagging(self,TokenizeTextList):\n",
    "        \n",
    "        pass\n",
    "        # for word in TokenizeTextList:\n",
    "            # print(word)\n",
    "        \n",
    "    \n",
    "    \n",
    "    \n",
    "    "
   ]
  },
  {
   "cell_type": "code",
   "execution_count": 77,
   "id": "9c539a23-0537-4ef4-9d8e-1e7bd39c8422",
   "metadata": {},
   "outputs": [
    {
     "name": "stdout",
     "output_type": "stream",
     "text": [
      "Sentance :استاد شاګرد ت%^&%3ه اووې چه غوږ اونيسه3324 2 s3$%\n",
      "Normalized Sentance :استاد شاګرد ته اووې چه غوږ اونيسه  \n",
      "TokenizedText :['استاد', 'شاګرد', 'ته', 'اووې', 'چه', 'غوږ', 'اونيسه'])\n"
     ]
    },
    {
     "ename": "TypeError",
     "evalue": "__str__ returned non-string (type NoneType)",
     "output_type": "error",
     "traceback": [
      "\u001b[0;31m---------------------------------------------------------------------------\u001b[0m",
      "\u001b[0;31mTypeError\u001b[0m                                 Traceback (most recent call last)",
      "\u001b[0;32m/tmp/ipykernel_93352/2579762980.py\u001b[0m in \u001b[0;36m<module>\u001b[0;34m\u001b[0m\n\u001b[1;32m      1\u001b[0m \u001b[0mtts\u001b[0m \u001b[0;34m=\u001b[0m \u001b[0mTTS\u001b[0m\u001b[0;34m(\u001b[0m\u001b[0;34m)\u001b[0m\u001b[0;34m\u001b[0m\u001b[0;34m\u001b[0m\u001b[0m\n\u001b[0;32m----> 2\u001b[0;31m \u001b[0mprint\u001b[0m\u001b[0;34m(\u001b[0m\u001b[0mtts\u001b[0m\u001b[0;34m)\u001b[0m\u001b[0;34m\u001b[0m\u001b[0;34m\u001b[0m\u001b[0m\n\u001b[0m",
      "\u001b[0;31mTypeError\u001b[0m: __str__ returned non-string (type NoneType)"
     ]
    }
   ],
   "source": [
    "tts = TTS()\n",
    "print(tts)"
   ]
  },
  {
   "cell_type": "code",
   "execution_count": null,
   "id": "47d6c1e7-53f2-41b0-af55-0b5d0dff629e",
   "metadata": {},
   "outputs": [],
   "source": []
  }
 ],
 "metadata": {
  "kernelspec": {
   "display_name": "Python 3 (ipykernel)",
   "language": "python",
   "name": "python3"
  },
  "language_info": {
   "codemirror_mode": {
    "name": "ipython",
    "version": 3
   },
   "file_extension": ".py",
   "mimetype": "text/x-python",
   "name": "python",
   "nbconvert_exporter": "python",
   "pygments_lexer": "ipython3",
   "version": "3.9.7"
  }
 },
 "nbformat": 4,
 "nbformat_minor": 5
}
